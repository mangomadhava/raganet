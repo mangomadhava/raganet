{
 "cells": [
  {
   "cell_type": "code",
   "execution_count": null,
   "metadata": {},
   "outputs": [],
   "source": [
    "import torch\n",
    "# import librosa\n",
    "import matplotlib\n",
    "import numpy as np\n",
    "import matplotlib.pyplot as plt\n",
    "%matplotlib inline  \n",
    "# import librosa.display\n",
    "import IPython.display as ipd\n",
    "from scipy.io import wavfile\n",
    "from scipy.io import wavfile\n",
    "# from audio2numpy import open_audio\n",
    "# import soundfile as sf\n",
    "import sys\n",
    "sys.path.append('../')\n",
    "import torchaudio\n",
    "import torchaudio.functional as F\n",
    "import torchaudio.transforms as T\n",
    "import IPython.display as ipd"
   ]
  },
  {
   "cell_type": "code",
   "execution_count": null,
   "metadata": {},
   "outputs": [],
   "source": [
    "def print_metadata(metadata, src=None):\n",
    "    if src:\n",
    "        print(\"-\" * 10)\n",
    "        print(\"Source:\", src)\n",
    "        print(\"-\" * 10)\n",
    "        print(\" - sample_rate:\", metadata.sample_rate)\n",
    "        print(\" - num_channels:\", metadata.num_channels)\n",
    "        print(\" - num_frames:\", metadata.num_frames)\n",
    "        print(\" - bits_per_sample:\", metadata.bits_per_sample)\n",
    "        print(\" - encoding:\", metadata.encoding)\n",
    "        print()\n",
    "\n",
    "def print_stats(waveform, sample_rate=None, src=None):\n",
    "    if src:\n",
    "        print(\"-\" * 10)\n",
    "        print(\"Source:\", src)\n",
    "        print(\"-\" * 10)\n",
    "    if sample_rate:\n",
    "        print(\"Sample Rate:\", sample_rate)\n",
    "    print(\"Shape:\", tuple(waveform.shape))\n",
    "    print(\"Dtype:\", waveform.dtype)\n",
    "    print(f\" - Max:     {waveform.max().item():6.3f}\")\n",
    "    print(f\" - Min:     {waveform.min().item():6.3f}\")\n",
    "    print(f\" - Mean:    {waveform.mean().item():6.3f}\")\n",
    "    print(f\" - Std Dev: {waveform.std().item():6.3f}\")\n",
    "    print()\n",
    "    print(waveform)\n",
    "    print()\n",
    "\n",
    "def plot_waveform(waveform, sample_rate, title=\"Waveform\", xlim=None, ylim=None):\n",
    "    waveform = waveform.numpy()\n",
    "\n",
    "    num_channels, num_frames = waveform.shape\n",
    "    time_axis = torch.arange(0, num_frames) / sample_rate\n",
    "\n",
    "    figure, axes = plt.subplots(num_channels, 1)\n",
    "    if num_channels == 1:\n",
    "        axes = [axes]\n",
    "    for c in range(num_channels):\n",
    "        axes[c].plot(time_axis, waveform[c], linewidth=1)\n",
    "        axes[c].grid(True)\n",
    "    if num_channels > 1:\n",
    "        axes[c].set_ylabel(f'Channel {c+1}')\n",
    "    if xlim:\n",
    "        axes[c].set_xlim(xlim)\n",
    "    if ylim:\n",
    "        axes[c].set_ylim(ylim)\n",
    "    figure.suptitle(title)\n",
    "    plt.show(block=False)\n",
    "\n",
    "def plot_specgram(waveform, sample_rate, title=\"Spectrogram\", xlim=None):\n",
    "    waveform = waveform.numpy()\n",
    "\n",
    "    num_channels, num_frames = waveform.shape\n",
    "    time_axis = torch.arange(0, num_frames) / sample_rate\n",
    "\n",
    "    figure, axes = plt.subplots(num_channels, 1)\n",
    "    if num_channels == 1:\n",
    "        axes = [axes]\n",
    "    for c in range(num_channels):\n",
    "        axes[c].specgram(waveform[c], Fs=sample_rate)\n",
    "    if num_channels > 1:\n",
    "        axes[c].set_ylabel(f'Channel {c+1}')\n",
    "    if xlim:\n",
    "        axes[c].set_xlim(xlim)\n",
    "    figure.suptitle(title)\n",
    "    plt.show(block=False)\n",
    "\n",
    "def play_audio(waveform, sample_rate):\n",
    "    waveform = waveform.numpy()\n",
    "\n",
    "    num_channels, num_frames = waveform.shape\n",
    "    if num_channels == 1:\n",
    "        display(ipd.Audio(waveform[0], rate=sample_rate))\n",
    "    elif num_channels == 2:\n",
    "        display(ipd.Audio((waveform[0], waveform[1]), rate=sample_rate))\n",
    "    else:\n",
    "        raise ValueError(\"Waveform with more than 2 channels are not supported.\")\n"
   ]
  },
  {
   "cell_type": "code",
   "execution_count": null,
   "metadata": {},
   "outputs": [],
   "source": [
    "file_path = '/gpfs/data1/cmongp1/mpaliyam/raganet/data/audio/AbhEri/006a-Abheri-Raga_Alapanai.mp3'\n",
    "# file_path = '/gpfs/data1/cmongp1/mpaliyam/raganet/data/audio/AbhEri/01-bhajarE_rE_mAnasa_shrI-AbhEri-mysore_vAsudevAcAr.mp3'\n"
   ]
  },
  {
   "cell_type": "code",
   "execution_count": null,
   "metadata": {},
   "outputs": [],
   "source": [
    "%%time\n",
    "waveform, sample_rate = torchaudio.load(file_path)"
   ]
  },
  {
   "cell_type": "code",
   "execution_count": null,
   "metadata": {},
   "outputs": [],
   "source": [
    "\n",
    "if len(waveform.shape) > 1: \n",
    "    waveform = waveform.mean(axis = 0).reshape((1,-1))\n",
    "# print_stats(waveform, sample_rate=sample_rate)\n",
    "# plot_waveform(waveform, sample_rate)\n",
    "# plot_specgram(waveform, sample_rate)\n",
    "play_audio(waveform, sample_rate)"
   ]
  },
  {
   "cell_type": "code",
   "execution_count": null,
   "metadata": {},
   "outputs": [],
   "source": [
    "effects = [[\"pitch\", \"-q\", \"0\"], [ \"rate\", \"44100\"]]\n",
    "waveform[:,400:30000].shape"
   ]
  },
  {
   "cell_type": "code",
   "execution_count": null,
   "metadata": {},
   "outputs": [],
   "source": [
    "%%time\n",
    "waveform2, sample_rate2 = torchaudio.sox_effects.apply_effects_tensor(\n",
    "    waveform, sample_rate, effects)"
   ]
  },
  {
   "cell_type": "code",
   "execution_count": null,
   "metadata": {},
   "outputs": [],
   "source": [
    "play_audio(waveform2, sample_rate2)"
   ]
  },
  {
   "cell_type": "code",
   "execution_count": null,
   "metadata": {},
   "outputs": [],
   "source": [
    "sample_rate2"
   ]
  },
  {
   "cell_type": "code",
   "execution_count": null,
   "metadata": {},
   "outputs": [],
   "source": [
    "%%time\n",
    "effects = [[ \"rate\", \"44100\"]]\n",
    "\n",
    "waveform2, sample_rate2 = torchaudio.sox_effects.apply_effects_tensor(\n",
    "    waveform, sample_rate, effects)\n",
    "print(sample_rate2, waveform2.shape)"
   ]
  },
  {
   "cell_type": "code",
   "execution_count": null,
   "metadata": {},
   "outputs": [],
   "source": [
    "play_audio(waveform2, sample_rate2)"
   ]
  },
  {
   "cell_type": "code",
   "execution_count": null,
   "metadata": {},
   "outputs": [],
   "source": [
    "model = torch.nn.Sequential(\n",
    "                T.MelSpectrogram(sample_rate=sample_rate,n_mels = 244, n_fft = 1024))\n",
    "\n",
    "# m = T.MelSpectrogram(sample_rate = sample_rate, n_mels = 24)\n",
    "\n",
    "model.to('cuda')\n",
    "\n",
    "print(sample_rate)\n",
    "model"
   ]
  },
  {
   "cell_type": "code",
   "execution_count": null,
   "metadata": {},
   "outputs": [],
   "source": [
    "%%time\n",
    "m = model(waveform2.to('cuda'))"
   ]
  },
  {
   "cell_type": "code",
   "execution_count": null,
   "metadata": {},
   "outputs": [],
   "source": [
    "print(m.shape)\n",
    "plt.imshow(m[0,0:128,0:400].cpu().squeeze())"
   ]
  },
  {
   "cell_type": "code",
   "execution_count": null,
   "metadata": {},
   "outputs": [],
   "source": [
    "fig, ax = plt.subplots(nrows=1,ncols=1, figsize=(20,4))\n",
    "cax = ax.matshow(m[0,0:128,0:400].cpu(), interpolation='nearest', aspect='auto', cmap=plt.cm.afmhot, origin='lower')\n",
    "fig.colorbar(cax)\n",
    "plt.title('Original Spectrogram')\n"
   ]
  },
  {
   "cell_type": "code",
   "execution_count": null,
   "metadata": {},
   "outputs": [],
   "source": [
    "t = (m.type(torch.FloatTensor))\n",
    "t.dtype"
   ]
  },
  {
   "cell_type": "code",
   "execution_count": null,
   "metadata": {},
   "outputs": [],
   "source": []
  }
 ],
 "metadata": {
  "kernelspec": {
   "display_name": "Python [conda env:.conda-mads] *",
   "language": "python",
   "name": "conda-env-.conda-mads-py"
  },
  "language_info": {
   "codemirror_mode": {
    "name": "ipython",
    "version": 3
   },
   "file_extension": ".py",
   "mimetype": "text/x-python",
   "name": "python",
   "nbconvert_exporter": "python",
   "pygments_lexer": "ipython3",
   "version": "3.7.7"
  }
 },
 "nbformat": 4,
 "nbformat_minor": 4
}
