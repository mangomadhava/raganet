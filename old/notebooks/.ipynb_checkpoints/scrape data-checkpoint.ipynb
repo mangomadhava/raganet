{
 "cells": [
  {
   "cell_type": "code",
   "execution_count": 2,
   "metadata": {},
   "outputs": [
    {
     "name": "stderr",
     "output_type": "stream",
     "text": [
      "/opt/anaconda3/lib/python3.7/site-packages/fuzzywuzzy/fuzz.py:11: UserWarning: Using slow pure-python SequenceMatcher. Install python-Levenshtein to remove this warning\n",
      "  warnings.warn('Using slow pure-python SequenceMatcher. Install python-Levenshtein to remove this warning')\n"
     ]
    }
   ],
   "source": [
    "from lxml import html\n",
    "import requests\n",
    "from bs4 import BeautifulSoup\n",
    "from selenium import webdriver\n",
    "import re\n",
    "import time\n",
    "import random\n",
    "from selenium.webdriver.common.keys import Keys\n",
    "from tqdm import tqdm\n",
    "import shutil\n",
    "import os\n",
    "from fuzzywuzzy import fuzz\n",
    "from fuzzywuzzy import process\n",
    "import numpy as np\n"
   ]
  },
  {
   "cell_type": "code",
   "execution_count": null,
   "metadata": {},
   "outputs": [],
   "source": []
  },
  {
   "cell_type": "code",
   "execution_count": 3,
   "metadata": {},
   "outputs": [],
   "source": [
    "driver = webdriver.Chrome(executable_path=\"../../chromedriver\")\n",
    "driver.get('https://accounts.google.com/signin/v2/identifier?passive=1209600&continue=https%3A%2F%2Faccounts.google.com%2F&followup=https%3A%2F%2Faccounts.google.com%2F&flowName=GlifWebSignIn&flowEntry=ServiceLogin')\n",
    "time.sleep(5)\n",
    "inner = driver.find_element_by_xpath('/html/body/div[1]/div[1]/div[2]/div/div[2]/div/div/div[2]/div/div[1]/div/form/span/section/div/div/div[1]/div/div[1]/div/div[1]/input').send_keys('raganetmadhava@gmail.com')\n",
    "driver.find_element_by_xpath('/html/body/div[1]/div[1]/div[2]/div/div[2]/div/div/div[2]/div/div[2]/div/div[1]/div/div').click()\n",
    "time.sleep(5)\n",
    "driver.find_element_by_xpath('/html/body/div[1]/div[1]/div[2]/div/div[2]/div/div/div[2]/div/div[1]/div/form/span/section/div/div/div[1]/div[1]/div/div/div/div/div[1]/div/div[1]/input').send_keys('RAGAnet1!')\n",
    "driver.find_element_by_xpath('/html/body/div[1]/div[1]/div[2]/div/div[2]/div/div/div[2]/div/div[2]/div/div[1]/div/div').click()\n",
    "time.sleep(5)"
   ]
  },
  {
   "cell_type": "code",
   "execution_count": 4,
   "metadata": {},
   "outputs": [],
   "source": [
    "driver.get('https://www.sangeethapriya.org/display_tracks.php')"
   ]
  },
  {
   "cell_type": "code",
   "execution_count": 12,
   "metadata": {},
   "outputs": [
    {
     "data": {
      "text/plain": [
       "'--SELECT ONE--'"
      ]
     },
     "execution_count": 12,
     "metadata": {},
     "output_type": "execute_result"
    }
   ],
   "source": [
    "l = driver.find_element_by_xpath('/html/body/div[4]/div/div[1]/form[2]/table/tbody/tr/td[2]/select')\n",
    "t = l.find_elements_by_tag_name('option')\n",
    "t[0].text"
   ]
  },
  {
   "cell_type": "code",
   "execution_count": null,
   "metadata": {},
   "outputs": [],
   "source": [
    "def download_raga(num):\n",
    "    driver.get('https://www.sangeethapriya.org/display_tracks.php')\n",
    "    time.sleep(1)\n",
    "    driver.find_element_by_xpath('/html/body/div[4]/div/div[1]/form[2]/table/tbody/tr/td[2]/select/option[%s]' % str(num + 1)).click()\n",
    "    driver.find_element_by_xpath('/html/body/div[4]/div/div[1]/form[2]/table/tbody/tr/td[3]/input').click()\n",
    "    time.sleep(3)\n",
    "    table_id = driver.find_element_by_xpath('/html/body/div[4]/div/div[1]/div/table/tbody')\n",
    "    ragam_name = driver.find_element_by_xpath('/html/body/div[4]/div/div[1]/h1')\n",
    "    rows = table_id.find_elements_by_tag_name('tr')\n",
    "    name = ragam_name.text.split(' ')[-1]\n",
    "    print(name)\n",
    "    print(ragam_name.text)\n",
    "    links = []\n",
    "    for row in rows:\n",
    "        try:\n",
    "            link = row.find_element_by_tag_name('a').get_attribute('href')\n",
    "            track_num = row.find_elements_by_tag_name('td')[1].text\n",
    "            links.append((link, track_num))\n",
    "        except:\n",
    "            print(\"Skipped link\")\n",
    "    print(\"Saved %s links to download\" % str(len(links)), flush = True)     \n",
    "    song_names = []\n",
    "    failed = []\n",
    "    for link in tqdm(links,position=0, leave=True):\n",
    "        time.sleep(1)\n",
    "        driver.get(link[0])\n",
    "        #print(link)\n",
    "        try:\n",
    "            driver.find_element_by_xpath('/html/body/div[4]/div/div/div[1]').click()\n",
    "            time.sleep(5)\n",
    "            driver.find_element_by_xpath('/html/body/div[4]/div/div[1]/table[1]/tbody/tr/td[1]/h3/a').click()\n",
    "            time.sleep(5)\n",
    "        except:\n",
    "            pass\n",
    "        \n",
    "        try:\n",
    "            files = driver.find_element_by_xpath('/html/body/div[4]/div/div[1]/ul')\n",
    "            index = int(link[1])\n",
    "            songs = files.find_elements_by_tag_name('li')\n",
    "            f_song = None\n",
    "            opts = []\n",
    "            scores = []\n",
    "            for song in songs: \n",
    "                opts.append(song.text)\n",
    "                scores.append(process.extractOne(name, song.text.split(' '))[1])\n",
    "            sel = opts[np.argmax(scores)]\n",
    "            print(opts, scores)\n",
    "            for song in songs: \n",
    "                if song.text == sel: \n",
    "                    f_song = song           \n",
    "            f_song.find_elements_by_tag_name('a')[2].click()\n",
    "            song_names.append(f_song.text)\n",
    "            time.sleep(1)\n",
    "            driver.find_element_by_xpath('/html/body/div[2]/div/div/a[1]').click()\n",
    "        except:\n",
    "            failed.append(link)\n",
    "    print('Succesfully downloaded: ', str(len(song_names)), ' songs.')\n",
    "    print('Failed to download: ', str(len(failed)), ' songs.')\n",
    "    print('Failed songs: ', str(failed))\n",
    "    \n",
    "    source = '/Users/madhavapaliyam/Downloads/'\n",
    "    dest = '/Users/madhavapaliyam/Documents/CMSC/rando/raganet/data/' + name \n",
    "    time.sleep(30)\n",
    "    print('Moving songs from ' + source + ' to ' + dest) \n",
    "    os.mkdir(dest)\n",
    "    dest = dest + '/'\n",
    "    downloaded_songs = os.listdir(source)\n",
    "    c = 0\n",
    "    for f in downloaded_songs:\n",
    "        if f != '.DS_store':\n",
    "            shutil.move(source + f, dest + f)\n",
    "            c = c + 1\n",
    "    print('Succesfully moved ', str(c), 'songs.')\n",
    "    return song_names, failed"
   ]
  },
  {
   "cell_type": "code",
   "execution_count": null,
   "metadata": {},
   "outputs": [],
   "source": [
    "suc, fail = download_raga(1)"
   ]
  },
  {
   "cell_type": "code",
   "execution_count": null,
   "metadata": {},
   "outputs": [],
   "source": [
    "suc, fail = download_raga(2)"
   ]
  },
  {
   "cell_type": "code",
   "execution_count": null,
   "metadata": {},
   "outputs": [],
   "source": [
    "suc, fail = download_raga(3)"
   ]
  },
  {
   "cell_type": "code",
   "execution_count": null,
   "metadata": {},
   "outputs": [],
   "source": [
    "suc, fail = download_raga(4)"
   ]
  },
  {
   "cell_type": "code",
   "execution_count": null,
   "metadata": {
    "scrolled": false
   },
   "outputs": [],
   "source": [
    "suc, fail = download_raga(5)"
   ]
  },
  {
   "cell_type": "code",
   "execution_count": null,
   "metadata": {},
   "outputs": [],
   "source": [
    "suc, fail = download_raga(6)"
   ]
  },
  {
   "cell_type": "code",
   "execution_count": null,
   "metadata": {},
   "outputs": [],
   "source": [
    "suc, fail = download_raga(7)"
   ]
  },
  {
   "cell_type": "code",
   "execution_count": null,
   "metadata": {
    "scrolled": false
   },
   "outputs": [],
   "source": [
    "#raganetmadhava@gmail.com\n",
    "#RAGAnet1!\n"
   ]
  },
  {
   "cell_type": "code",
   "execution_count": null,
   "metadata": {},
   "outputs": [],
   "source": [
    "\n",
    "suc, fail = download_raga(8)\n"
   ]
  },
  {
   "cell_type": "code",
   "execution_count": null,
   "metadata": {},
   "outputs": [],
   "source": [
    "suc, fail = download_raga(9)\n"
   ]
  },
  {
   "cell_type": "code",
   "execution_count": null,
   "metadata": {},
   "outputs": [],
   "source": [
    "suc, fail = download_raga(10)\n"
   ]
  },
  {
   "cell_type": "code",
   "execution_count": null,
   "metadata": {},
   "outputs": [],
   "source": [
    "suc, fail = download_raga(11)"
   ]
  },
  {
   "cell_type": "code",
   "execution_count": null,
   "metadata": {},
   "outputs": [],
   "source": [
    "suc, fail = download_raga(12)"
   ]
  },
  {
   "cell_type": "code",
   "execution_count": null,
   "metadata": {},
   "outputs": [],
   "source": [
    "suc, fail = download_raga(13)"
   ]
  },
  {
   "cell_type": "code",
   "execution_count": null,
   "metadata": {},
   "outputs": [],
   "source": [
    "suc, fail = download_raga(14)"
   ]
  },
  {
   "cell_type": "code",
   "execution_count": null,
   "metadata": {},
   "outputs": [],
   "source": [
    "suc, fail = download_raga(15)"
   ]
  },
  {
   "cell_type": "code",
   "execution_count": 6,
   "metadata": {},
   "outputs": [
    {
     "data": {
      "text/plain": [
       "'amirkalyani'"
      ]
     },
     "execution_count": 6,
     "metadata": {},
     "output_type": "execute_result"
    }
   ],
   "source": [
    "# driver.send_keys(Keys.RETURN)\n",
    "# fuzz.partial_ratio('AbhEri', 'AbEri')\n",
    "e = ['amirkalyani','ijeije - amirkalyani', 'kjkdjfd - kalyAni', 'lkdj- dlkjas lkd - kalllyannni']\n",
    "process.extractOne('kalyani',e)[0]"
   ]
  },
  {
   "cell_type": "code",
   "execution_count": 7,
   "metadata": {},
   "outputs": [
    {
     "name": "stdout",
     "output_type": "stream",
     "text": [
      "('amirkalyani', 90)\n",
      "('amirkalyani', 90)\n",
      "('kalyAni', 100)\n",
      "('kalllyannni', 78)\n"
     ]
    }
   ],
   "source": [
    "for i in e: \n",
    "    print(process.extractOne('kalyani', i.split(' ')))"
   ]
  },
  {
   "cell_type": "code",
   "execution_count": null,
   "metadata": {},
   "outputs": [],
   "source": [
    "# driver.window_handles\n",
    "# driver.current_window_handle\n",
    "# new_d = driver.switch_to_window(driver.window_handles[1])"
   ]
  },
  {
   "cell_type": "code",
   "execution_count": null,
   "metadata": {},
   "outputs": [],
   "source": [
    "\n",
    "# driver.find_element_by_id('Email or phone').send_keys('raganetmadhava@gmail.com')\n",
    "\n"
   ]
  },
  {
   "cell_type": "code",
   "execution_count": null,
   "metadata": {},
   "outputs": [],
   "source": [
    "# inner.get_attribute(\"innerHTML\")\n",
    "# inner.send_keys('raganetmadhava@gmail.com')"
   ]
  },
  {
   "cell_type": "code",
   "execution_count": null,
   "metadata": {},
   "outputs": [],
   "source": [
    "num = 2\n",
    "driver.get('https://www.sangeethapriya.org/display_tracks.php')\n",
    "time.sleep(1)\n",
    "driver.find_element_by_xpath('/html/body/div[4]/div/div[1]/form[2]/table/tbody/tr/td[2]/select/option[%s]' % str(num + 1)).click()\n",
    "driver.find_element_by_xpath('/html/body/div[4]/div/div[1]/form[2]/table/tbody/tr/td[3]/input').click()\n",
    "time.sleep(3)\n",
    "table_id = driver.find_element_by_xpath('/html/body/div[4]/div/div[1]/div/table/tbody')\n",
    "ragam_name = driver.find_element_by_xpath('/html/body/div[4]/div/div[1]/h1')\n",
    "rows = table_id.find_elements_by_tag_name('tr')\n",
    "name = ragam_name.text.split(' ')[-1]\n",
    "print(name)\n",
    "print(ragam_name.text)\n",
    "links = []\n",
    "for row in rows:\n",
    "    try:\n",
    "        link = row.find_element_by_tag_name('a').get_attribute('href')\n",
    "        track_num = row.find_elements_by_tag_name('td')[1].text\n",
    "        links.append((link, track_num))\n",
    "    except:\n",
    "        print(\"Skipped link\")\n",
    "print(\"Saved %s links to download\" % str(len(links)), flush = True)     \n",
    "\n"
   ]
  },
  {
   "cell_type": "code",
   "execution_count": null,
   "metadata": {},
   "outputs": [],
   "source": []
  },
  {
   "cell_type": "code",
   "execution_count": null,
   "metadata": {},
   "outputs": [],
   "source": [
    "driver.get(links[0][0])\n",
    "files = driver.find_element_by_xpath('/html/body/div[4]/div/div[1]/ul')\n",
    "index = int(links[0][1])\n",
    "songs = files.find_elements_by_tag_name('li')"
   ]
  },
  {
   "cell_type": "code",
   "execution_count": null,
   "metadata": {},
   "outputs": [],
   "source": [
    "t = None\n",
    "for song in songs:\n",
    "    try:\n",
    "        if int(song.text.split('-')[0]) == index: \n",
    "            t = song\n",
    "    except: \n",
    "        pass\n",
    "print(t.text)"
   ]
  },
  {
   "cell_type": "code",
   "execution_count": null,
   "metadata": {},
   "outputs": [],
   "source": [
    "# driver.window_handles"
   ]
  },
  {
   "cell_type": "code",
   "execution_count": null,
   "metadata": {},
   "outputs": [],
   "source": [
    "# driver.current_window_handle"
   ]
  },
  {
   "cell_type": "code",
   "execution_count": null,
   "metadata": {},
   "outputs": [],
   "source": []
  },
  {
   "cell_type": "code",
   "execution_count": null,
   "metadata": {},
   "outputs": [],
   "source": []
  }
 ],
 "metadata": {
  "kernelspec": {
   "display_name": "Python 3",
   "language": "python",
   "name": "python3"
  },
  "language_info": {
   "codemirror_mode": {
    "name": "ipython",
    "version": 3
   },
   "file_extension": ".py",
   "mimetype": "text/x-python",
   "name": "python",
   "nbconvert_exporter": "python",
   "pygments_lexer": "ipython3",
   "version": "3.7.4"
  }
 },
 "nbformat": 4,
 "nbformat_minor": 2
}
