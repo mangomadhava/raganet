{
 "cells": [
  {
   "cell_type": "code",
   "execution_count": null,
   "metadata": {},
   "outputs": [],
   "source": [
    "import librosa\n",
    "import matplotlib\n",
    "import numpy as np\n",
    "import matplotlib.pyplot as plt\n",
    "%matplotlib inline  \n",
    "import librosa.display\n",
    "import IPython.display as ipd\n",
    "from nnAudio import Spectrogram\n",
    "from scipy.io import wavfile\n",
    "import torch\n",
    "from pydub import AudioSegment\n",
    "from scipy.io import wavfile\n",
    "from audio2numpy import open_audio\n",
    "import soundfile as sf\n",
    "\n",
    "#https://towardsdatascience.com/getting-to-know-the-mel-spectrogram-31bca3e2d9d0\n",
    "#https://arxiv.org/pdf/1809.04281.pdf\n",
    "#https://towardsdatascience.com/transformers-141e32e69591\n",
    "#http://cs229.stanford.edu/proj2017/final-reports/5244079.pdf\n",
    "#https://musicinformationretrieval.com/chroma.html\n"
   ]
  },
  {
   "cell_type": "code",
   "execution_count": null,
   "metadata": {},
   "outputs": [],
   "source": [
    "# file_path = '/Users/madhavapaliyam/Documents/CMSC/rando/raganet/examples/ex1.mp3'\n",
    "file_path = '/Users/madhavapaliyam/Documents/CMSC/rando/raganet/data/AbhEri/03-vINAbhEri_vEnuvAdyAdi_vinOdinIm-AbhEri.mp3'\n",
    "signal, sampling_rate = open_audio(file_path)\n",
    "print(sampling_rate)\n",
    "\n",
    "if len(signal.shape) > 1: \n",
    "    signal = np.mean(signal, axis = 1)\n",
    "print(signal.shape)"
   ]
  },
  {
   "cell_type": "code",
   "execution_count": null,
   "metadata": {},
   "outputs": [],
   "source": [
    "librosa.display.waveplot(signal)"
   ]
  },
  {
   "cell_type": "code",
   "execution_count": null,
   "metadata": {},
   "outputs": [],
   "source": [
    "hop_length = 1024\n",
    "n_chroma = 24"
   ]
  },
  {
   "cell_type": "code",
   "execution_count": null,
   "metadata": {},
   "outputs": [],
   "source": [
    "S = librosa.cqt(signal, sr=sampling_rate, hop_length=hop_length)\n",
    "# S_DB = librosa.power_to_db(S, ref=np.max)\n",
    "print(S.shape)\n",
    "librosa.display.specshow(S, sr=sampling_rate, hop_length=hop_length, x_axis='time', y_axis='mel')\n",
    "plt.colorbar(format='%+2.0f dB')"
   ]
  },
  {
   "cell_type": "code",
   "execution_count": null,
   "metadata": {},
   "outputs": [],
   "source": [
    "mean_S = np.mean(S, axis = 0)\n",
    "mean_S.shape"
   ]
  },
  {
   "cell_type": "code",
   "execution_count": null,
   "metadata": {},
   "outputs": [],
   "source": [
    "chromagram = librosa.feature.chroma_stft(signal, sr=sampling_rate, n_chroma = n_chroma, hop_length=hop_length)\n",
    "plt.figure(figsize=(15, 5))\n",
    "librosa.display.specshow(chromagram[:,:], x_axis='time', hop_length=hop_length)\n",
    "print(chromagram.shape)"
   ]
  },
  {
   "cell_type": "code",
   "execution_count": null,
   "metadata": {},
   "outputs": [],
   "source": [
    "chromagram = librosa.feature.chroma_stft(signal, sr=sampling_rate, n_chroma = n_chroma, hop_length=hop_length)\n",
    "plt.figure(figsize=(15, 5))\n",
    "librosa.display.specshow(chromagram[:,:] * mean_S, x_axis='time', hop_length=hop_length)\n",
    "print(chromagram.shape)"
   ]
  },
  {
   "cell_type": "code",
   "execution_count": null,
   "metadata": {},
   "outputs": [],
   "source": [
    "chromagram = librosa.feature.chroma_cqt(signal, sr=sampling_rate, n_chroma = 12, hop_length=hop_length)\n",
    "plt.figure(figsize=(15, 5))\n",
    "librosa.display.specshow(chromagram[:,:], x_axis='time', hop_length=hop_length)\n",
    "print(chromagram.shape)"
   ]
  },
  {
   "cell_type": "code",
   "execution_count": null,
   "metadata": {},
   "outputs": [],
   "source": [
    "chromagram = librosa.feature.chroma_cqt(signal, sr=sampling_rate, n_chroma = 12, hop_length=hop_length)\n",
    "plt.figure(figsize=(15, 5))\n",
    "librosa.display.specshow(chromagram[:,:] * mean_S, x_axis='time', hop_length=hop_length)\n",
    "print(chromagram.shape)"
   ]
  },
  {
   "cell_type": "code",
   "execution_count": null,
   "metadata": {},
   "outputs": [],
   "source": []
  },
  {
   "cell_type": "markdown",
   "metadata": {},
   "source": [
    "### Shifts"
   ]
  },
  {
   "cell_type": "code",
   "execution_count": null,
   "metadata": {},
   "outputs": [],
   "source": [
    "# shifted_signal = librosa.effects.pitch_shift(signal, sampling_rate, n_steps=35)"
   ]
  },
  {
   "cell_type": "code",
   "execution_count": null,
   "metadata": {},
   "outputs": [],
   "source": [
    "S = librosa.cqt(shifted_signal, sr=sampling_rate, hop_length=hop_length)\n",
    "# S_DB = librosa.power_to_db(S, ref=np.max)\n",
    "print(S.shape)\n",
    "librosa.display.specshow(S, sr=sampling_rate, hop_length=hop_length, x_axis='time', y_axis='mel')\n",
    "plt.colorbar(format='%+2.0f dB')"
   ]
  },
  {
   "cell_type": "code",
   "execution_count": null,
   "metadata": {},
   "outputs": [],
   "source": [
    "chromagram = librosa.feature.chroma_stft(shifted_signal, sr=sampling_rate, n_chroma = n_chroma, hop_length=hop_length)\n",
    "plt.figure(figsize=(15, 5))\n",
    "librosa.display.specshow(chromagram[:,:] * mean_S, x_axis='time', hop_length=hop_length)\n",
    "print(chromagram.shape)"
   ]
  },
  {
   "cell_type": "code",
   "execution_count": null,
   "metadata": {},
   "outputs": [],
   "source": [
    "chromagram = librosa.feature.chroma_cqt(shifted_signal, sr=sampling_rate, n_chroma = 12, hop_length=hop_length)\n",
    "plt.figure(figsize=(15, 5))\n",
    "librosa.display.specshow(chromagram[:,:] * mean_S, x_axis='time', hop_length=hop_length)\n",
    "print(chromagram.shape)"
   ]
  },
  {
   "cell_type": "code",
   "execution_count": null,
   "metadata": {},
   "outputs": [],
   "source": [
    "num_groups = chromagram.shape[1] // 600\n",
    "bound = num_groups * 600\n",
    "chromagram = chromagram[:,0:bound]\n",
    "chromagram.shape"
   ]
  },
  {
   "cell_type": "code",
   "execution_count": null,
   "metadata": {},
   "outputs": [],
   "source": [
    "np.array(np.split(chromagram, num_groups, axis = 1)).shape"
   ]
  },
  {
   "cell_type": "code",
   "execution_count": null,
   "metadata": {},
   "outputs": [],
   "source": [
    "from nnAudio import Spectrogram"
   ]
  },
  {
   "cell_type": "code",
   "execution_count": null,
   "metadata": {},
   "outputs": [],
   "source": [
    "signal_torch = torch.tensor(signal)\n",
    "S = Spectrogram.CQT2010v2(hop_length = hop_length)(signal_torch)\n",
    "S.shape"
   ]
  },
  {
   "cell_type": "code",
   "execution_count": null,
   "metadata": {},
   "outputs": [],
   "source": [
    "librosa.display.specshow(S.cpu().detach().numpy().squeeze(), sr=sampling_rate, hop_length=hop_length, x_axis='time', y_axis='mel')\n"
   ]
  },
  {
   "cell_type": "code",
   "execution_count": null,
   "metadata": {},
   "outputs": [],
   "source": [
    "S_roll = torch.roll(S, -10, dims = 1)"
   ]
  },
  {
   "cell_type": "code",
   "execution_count": null,
   "metadata": {},
   "outputs": [],
   "source": [
    "librosa.display.specshow(S_roll.cpu().detach().numpy().squeeze(), sr=sampling_rate, hop_length=hop_length, x_axis='time', y_axis='mel')\n"
   ]
  },
  {
   "cell_type": "markdown",
   "metadata": {},
   "source": [
    "### Filtering"
   ]
  },
  {
   "cell_type": "code",
   "execution_count": null,
   "metadata": {},
   "outputs": [],
   "source": [
    "%%time\n",
    "file_path = '/Users/madhavapaliyam/Documents/CMSC/rando/raganet/data/AbhEri/05-bhajarE_rE_mAnasa_shrI-AbhEri (3).mp3'\n",
    "\n",
    "# file_path = '/Users/madhavapaliyam/Documents/CMSC/rando/raganet/examples/ex3.mp3'\n",
    "signal, sampling_rate = open_audio(file_path)\n",
    "print(sampling_rate)\n",
    "\n",
    "if len(signal.shape) > 1: \n",
    "    signal = np.mean(signal, axis = 1)\n",
    "print(signal.shape)\n",
    "\n"
   ]
  },
  {
   "cell_type": "code",
   "execution_count": null,
   "metadata": {},
   "outputs": [],
   "source": [
    "import subprocess\n",
    "s = subprocess.run([\"ls\", \"-l\"],stdout=subprocess.PIPE)\n",
    "s.stdout.decode(\"utf-8\").split('\\n')"
   ]
  },
  {
   "cell_type": "code",
   "execution_count": null,
   "metadata": {},
   "outputs": [],
   "source": [
    "20/(1/44100) "
   ]
  },
  {
   "cell_type": "code",
   "execution_count": null,
   "metadata": {},
   "outputs": [],
   "source": [
    "import IPython.display as ipd\n",
    "ipd.Audio(file_path)"
   ]
  },
  {
   "cell_type": "code",
   "execution_count": null,
   "metadata": {},
   "outputs": [],
   "source": [
    "hop_length = 1024\n",
    "n_chroma = 12"
   ]
  },
  {
   "cell_type": "code",
   "execution_count": null,
   "metadata": {},
   "outputs": [],
   "source": [
    "%%time\n",
    "data_h, data_p = librosa.effects.hpss(signal)"
   ]
  },
  {
   "cell_type": "code",
   "execution_count": null,
   "metadata": {},
   "outputs": [],
   "source": [
    "2.5/64"
   ]
  },
  {
   "cell_type": "code",
   "execution_count": null,
   "metadata": {},
   "outputs": [],
   "source": [
    "%%time\n",
    "data_h = librosa.effects.harmonic(signal)\n"
   ]
  },
  {
   "cell_type": "code",
   "execution_count": null,
   "metadata": {},
   "outputs": [],
   "source": []
  },
  {
   "cell_type": "code",
   "execution_count": null,
   "metadata": {},
   "outputs": [],
   "source": [
    "%%time\n",
    "\n",
    "spec_h = librosa.feature.melspectrogram(data_h, sr=sampling_rate)\n",
    "spec_p = librosa.feature.melspectrogram(data_p, sr=sampling_rate)\n",
    "db_spec_h = librosa.power_to_db(spec_h,ref=np.max)\n",
    "db_spec_p = librosa.power_to_db(spec_p,ref=np.max)\n",
    "\n",
    "plt.figure(figsize=(15, 5))\n",
    "librosa.display.specshow(spec_h[:,:], y_axis='mel', x_axis='time', hop_length=hop_length)\n",
    "\n",
    "\n",
    "plt.figure(figsize=(15, 5))\n",
    "librosa.display.specshow(spec_p[:,:], y_axis='mel', x_axis='time', hop_length=hop_length)\n",
    "\n",
    "\n",
    "plt.figure(figsize=(15, 5))\n",
    "librosa.display.specshow(db_spec_h[:,:], y_axis='mel', x_axis='time', hop_length=hop_length)\n",
    "\n",
    "\n",
    "plt.figure(figsize=(15, 5))\n",
    "librosa.display.specshow(db_spec_p[:,:], y_axis='mel', x_axis='time', hop_length=hop_length)\n"
   ]
  },
  {
   "cell_type": "code",
   "execution_count": null,
   "metadata": {},
   "outputs": [],
   "source": [
    "sf.write(\"./new-audio.wav\", data_h, sampling_rate)\n",
    "ipd.Audio(\"./new-audio.wav\")"
   ]
  },
  {
   "cell_type": "code",
   "execution_count": null,
   "metadata": {},
   "outputs": [],
   "source": [
    "sf.write(\"./new-audio.wav\", data_p, sampling_rate)\n",
    "ipd.Audio(\"./new-audio.wav\")"
   ]
  },
  {
   "cell_type": "code",
   "execution_count": null,
   "metadata": {},
   "outputs": [],
   "source": [
    "%%time\n",
    "shifted_signal = librosa.effects.pitch_shift(data_h, sampling_rate, n_steps=1)"
   ]
  },
  {
   "cell_type": "code",
   "execution_count": null,
   "metadata": {},
   "outputs": [],
   "source": [
    "sf.write(\"./new-audio.wav\", shifted_signal, sampling_rate)\n",
    "ipd.Audio(\"./new-audio.wav\")"
   ]
  },
  {
   "cell_type": "code",
   "execution_count": null,
   "metadata": {},
   "outputs": [],
   "source": [
    "S = np.real(librosa.cqt(data_h, sr=sampling_rate, hop_length=hop_length)).astype(np.float16)\n",
    "S = S[:,0:800]\n",
    "print(S.dtype)\n",
    "print(S.shape)\n",
    "librosa.display.specshow(S, sr=sampling_rate, hop_length=hop_length, x_axis='s')\n",
    "plt.colorbar(format='%+2.0f dB')"
   ]
  },
  {
   "cell_type": "code",
   "execution_count": null,
   "metadata": {},
   "outputs": [],
   "source": [
    "S = librosa.cqt(data_h, sr=sampling_rate, hop_length=hop_length)\n",
    "S = S[:,0:800]\n",
    "print(S.dtype)\n",
    "librosa.display.specshow(S, sr=sampling_rate, hop_length=hop_length, x_axis='s', y_axis = 'cqt_note')\n",
    "plt.colorbar(format='%+2.0f dB')"
   ]
  },
  {
   "cell_type": "code",
   "execution_count": null,
   "metadata": {},
   "outputs": [],
   "source": []
  },
  {
   "cell_type": "code",
   "execution_count": null,
   "metadata": {},
   "outputs": [],
   "source": [
    "S_p = (S - np.mean(S))/ np.std(S)\n",
    "print(S_p.dtype)\n",
    "librosa.display.specshow(S_p, sr=sampling_rate, hop_length=hop_length, x_axis='s')\n",
    "plt.colorbar(format='%+2.0f dB')"
   ]
  },
  {
   "cell_type": "code",
   "execution_count": null,
   "metadata": {},
   "outputs": [],
   "source": []
  },
  {
   "cell_type": "code",
   "execution_count": null,
   "metadata": {},
   "outputs": [],
   "source": [
    "S = np.real(librosa.cqt(shifted_signal, sr=sampling_rate, hop_length=hop_length))\n",
    "# S = librosa.power_to_db(S, ref=np.max)\n",
    "print(S.shape)\n",
    "librosa.display.specshow(S[:,0:800], sr=sampling_rate, hop_length=hop_length, x_axis='s')\n",
    "plt.colorbar(format='%+2.0f dB')"
   ]
  },
  {
   "cell_type": "code",
   "execution_count": null,
   "metadata": {},
   "outputs": [],
   "source": [
    "import random\n",
    "random.sample(range(-5,5), 10)"
   ]
  },
  {
   "cell_type": "code",
   "execution_count": null,
   "metadata": {},
   "outputs": [],
   "source": [
    "# ipd.Audio(\"./new-audio.wav\")"
   ]
  },
  {
   "cell_type": "code",
   "execution_count": null,
   "metadata": {},
   "outputs": [],
   "source": [
    "def absoluteFilePaths(directory):\n",
    "    for filenames in [os.listdir(directory)]:\n",
    "        for f in filenames:\n",
    "            yield os.path.abspath(os.path.join(directory, f))"
   ]
  },
  {
   "cell_type": "code",
   "execution_count": null,
   "metadata": {},
   "outputs": [],
   "source": []
  },
  {
   "cell_type": "code",
   "execution_count": null,
   "metadata": {},
   "outputs": [],
   "source": [
    "np.random.randint(low = -5, high=5) "
   ]
  },
  {
   "cell_type": "code",
   "execution_count": null,
   "metadata": {},
   "outputs": [],
   "source": []
  },
  {
   "cell_type": "code",
   "execution_count": null,
   "metadata": {},
   "outputs": [],
   "source": []
  },
  {
   "cell_type": "code",
   "execution_count": null,
   "metadata": {},
   "outputs": [],
   "source": []
  }
 ],
 "metadata": {
  "kernelspec": {
   "display_name": "Python 3",
   "language": "python",
   "name": "python3"
  },
  "language_info": {
   "codemirror_mode": {
    "name": "ipython",
    "version": 3
   },
   "file_extension": ".py",
   "mimetype": "text/x-python",
   "name": "python",
   "nbconvert_exporter": "python",
   "pygments_lexer": "ipython3",
   "version": "3.7.4"
  }
 },
 "nbformat": 4,
 "nbformat_minor": 2
}
