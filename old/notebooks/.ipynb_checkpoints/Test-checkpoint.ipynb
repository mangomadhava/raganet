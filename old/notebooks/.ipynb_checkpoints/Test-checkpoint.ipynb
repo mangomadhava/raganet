{
 "cells": [
  {
   "cell_type": "code",
   "execution_count": null,
   "metadata": {},
   "outputs": [],
   "source": [
    "import torch\n",
    "import librosa\n",
    "import matplotlib\n",
    "import numpy as np\n",
    "import matplotlib.pyplot as plt\n",
    "%matplotlib inline  \n",
    "import librosa.display\n",
    "import IPython.display as ipd\n",
    "from scipy.io import wavfile\n",
    "from scipy.io import wavfile\n",
    "from audio2numpy import open_audio\n",
    "import soundfile as sf\n",
    "import sys\n",
    "sys.path.append('../')\n",
    "import model\n",
    "from model import *"
   ]
  },
  {
   "cell_type": "code",
   "execution_count": null,
   "metadata": {},
   "outputs": [],
   "source": [
    "file_path = '/gpfs/data1/cmongp1/mpaliyam/raganet/data/audio/AbhEri/006a-Abheri-Raga_Alapanai.mp3'\n",
    "signal, sampling_rate = open_audio(file_path)\n",
    "print(sampling_rate)\n",
    "\n",
    "if len(signal.shape) > 1: \n",
    "    signal = np.mean(signal, axis = 1)\n",
    "print(signal.shape)"
   ]
  },
  {
   "cell_type": "code",
   "execution_count": null,
   "metadata": {},
   "outputs": [],
   "source": [
    "import IPython.display as ipd\n",
    "ipd.Audio(file_path)"
   ]
  },
  {
   "cell_type": "code",
   "execution_count": null,
   "metadata": {},
   "outputs": [],
   "source": [
    "hop_length = 1024\n",
    "if sampling_rate != 44100:\n",
    "    signal = librosa.resample(signal, sampling_rate, 44100)\n",
    "    sampling_rate = 44100"
   ]
  },
  {
   "cell_type": "code",
   "execution_count": null,
   "metadata": {},
   "outputs": [],
   "source": [
    "data_h = librosa.effects.harmonic(signal)"
   ]
  },
  {
   "cell_type": "code",
   "execution_count": null,
   "metadata": {},
   "outputs": [],
   "source": [
    "S = np.real(librosa.cqt(data_h, sr=sampling_rate, hop_length=hop_length)).astype(np.float32)\n",
    "print(S.shape)\n",
    "num_groups = S.shape[1] // 1292\n",
    "bound = num_groups * 1292\n",
    "S = S[:,0:bound]\n",
    "chunks = np.split(S, num_groups, axis = 1)\n",
    "print(np.array(chunks).shape)"
   ]
  },
  {
   "cell_type": "code",
   "execution_count": null,
   "metadata": {},
   "outputs": [],
   "source": [
    "model = raganet(num_ragas = 2)\n",
    "model.load_state_dict(torch.load('../trained_modelsquareconv01.tar'))\n",
    "model.eval()"
   ]
  },
  {
   "cell_type": "code",
   "execution_count": null,
   "metadata": {},
   "outputs": [],
   "source": []
  },
  {
   "cell_type": "code",
   "execution_count": null,
   "metadata": {},
   "outputs": [],
   "source": []
  },
  {
   "cell_type": "code",
   "execution_count": null,
   "metadata": {},
   "outputs": [],
   "source": []
  },
  {
   "cell_type": "code",
   "execution_count": null,
   "metadata": {},
   "outputs": [],
   "source": []
  }
 ],
 "metadata": {
  "kernelspec": {
   "display_name": "Python [conda env:.conda-mads] *",
   "language": "python",
   "name": "conda-env-.conda-mads-py"
  },
  "language_info": {
   "codemirror_mode": {
    "name": "ipython",
    "version": 3
   },
   "file_extension": ".py",
   "mimetype": "text/x-python",
   "name": "python",
   "nbconvert_exporter": "python",
   "pygments_lexer": "ipython3",
   "version": "3.7.7"
  }
 },
 "nbformat": 4,
 "nbformat_minor": 4
}
